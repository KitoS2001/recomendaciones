{
 "cells": [
  {
   "cell_type": "code",
   "execution_count": 1,
   "id": "1bfe1d8b-4278-44f1-a503-9c84c9d6b215",
   "metadata": {},
   "outputs": [
    {
     "name": "stdout",
     "output_type": "stream",
     "text": [
      "Carrito de compras: ['audifonos', 'smartphones']\n",
      "Productos recomendados: ['impresoras', 'camaras', 'microfonos', 'televisores', 'consolas', 'adaptadores', 'routers', 'cables_usb', 'cables_hdmi', 'ratones', 'altavoces', 'protectores_de_pantalla', 'smartwatch']\n"
     ]
    }
   ],
   "source": [
    "import pandas as pd\n",
    "import random\n",
    "from mlxtend.frequent_patterns import apriori, association_rules\n",
    "\n",
    "# Generar datos de ejemplo para las transacciones y el catálogo\n",
    "products = [\n",
    "    'audifonos', 'impresoras', 'memorias', 'proyectores', 'smartwatch', \n",
    "    'adaptadores', 'laptops', 'tablets', 'camaras', 'smartphones', \n",
    "    'televisores', 'consolas', 'routers', 'monitores', 'teclados',\n",
    "    'ratones', 'altavoces', 'microfonos', 'discos_duros', 'ssd', \n",
    "    'lectores_de_tarjetas', 'cables_hdmi', 'cables_usb', 'protectores_de_pantalla',\n",
    "]\n",
    "\n",
    "# Generar transacciones de ejemplo\n",
    "def generate_transactional_data(num_transactions, products):\n",
    "    data = []\n",
    "    for _ in range(num_transactions):\n",
    "        transaction = random.sample(products, k=random.randint(1, 5))\n",
    "        data.append(transaction)\n",
    "    return data\n",
    "\n",
    "# Crear el DataFrame de transacciones\n",
    "num_transactions = 1000\n",
    "transactions = generate_transactional_data(num_transactions, products)\n",
    "df = pd.DataFrame(transactions)\n",
    "\n",
    "# Codificar las transacciones en un formato binario\n",
    "df_encoded = df.apply(lambda x: pd.Series(1, index=x.dropna()), axis=1).fillna(0).astype(bool)\n",
    "\n",
    "# Aplicar el algoritmo Apriori\n",
    "frequent_itemsets = apriori(df_encoded, min_support=0.01, use_colnames=True)\n",
    "\n",
    "# Generar reglas de asociación\n",
    "rules = association_rules(frequent_itemsets, metric=\"lift\", min_threshold=1)\n",
    "\n",
    "# Función para recomendar productos basada en las reglas de asociación\n",
    "def recommend_products(cart):\n",
    "    recommended = set()\n",
    "    \n",
    "    for item in cart:\n",
    "        related_rules = rules[rules['antecedents'].apply(lambda x: item in x)]\n",
    "        for _, row in related_rules.iterrows():\n",
    "            for consequent in row['consequents']:\n",
    "                if consequent not in cart:\n",
    "                    recommended.add(consequent)\n",
    "    \n",
    "    return list(recommended)\n",
    "\n",
    "# Simulación de una compra y recomendaciones\n",
    "cart = ['audifonos', 'smartphones']\n",
    "recommendations = recommend_products(cart)\n",
    "\n",
    "print(f\"Carrito de compras: {cart}\")\n",
    "print(f\"Productos recomendados: {recommendations}\")\n"
   ]
  },
  {
   "cell_type": "code",
   "execution_count": null,
   "id": "a8b575f1-5909-4a41-a19e-192f92f39de0",
   "metadata": {},
   "outputs": [],
   "source": []
  }
 ],
 "metadata": {
  "kernelspec": {
   "display_name": "Python 3 (ipykernel)",
   "language": "python",
   "name": "python3"
  },
  "language_info": {
   "codemirror_mode": {
    "name": "ipython",
    "version": 3
   },
   "file_extension": ".py",
   "mimetype": "text/x-python",
   "name": "python",
   "nbconvert_exporter": "python",
   "pygments_lexer": "ipython3",
   "version": "3.12.3"
  }
 },
 "nbformat": 4,
 "nbformat_minor": 5
}
